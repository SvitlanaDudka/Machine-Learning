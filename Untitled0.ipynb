{
  "nbformat": 4,
  "nbformat_minor": 0,
  "metadata": {
    "colab": {
      "provenance": [],
      "authorship_tag": "ABX9TyOVaSCjrQXS/W4SBAs/AIuN",
      "include_colab_link": true
    },
    "kernelspec": {
      "name": "python3",
      "display_name": "Python 3"
    },
    "language_info": {
      "name": "python"
    }
  },
  "cells": [
    {
      "cell_type": "markdown",
      "metadata": {
        "id": "view-in-github",
        "colab_type": "text"
      },
      "source": [
        "<a href=\"https://colab.research.google.com/github/SvitlanaDudka/Machine-Learning/blob/main/Untitled0.ipynb\" target=\"_parent\"><img src=\"https://colab.research.google.com/assets/colab-badge.svg\" alt=\"Open In Colab\"/></a>"
      ]
    },
    {
      "cell_type": "markdown",
      "source": [
        "Лабораторна робота №1 Варіант 3"
      ],
      "metadata": {
        "id": "dxBCVMNjvtMd"
      }
    },
    {
      "cell_type": "markdown",
      "source": [
        "Завдання 1. Створіть одновимірний масив (вектор) з парними числами від 2 до 20 та виведіть\n",
        "його значення."
      ],
      "metadata": {
        "id": "6MfYja9Lvvwg"
      }
    },
    {
      "cell_type": "code",
      "source": [
        "import numpy as np\n",
        "\n",
        "vector = np.arange(2, 21, 2)\n",
        "\n",
        "print(vector)\n"
      ],
      "metadata": {
        "colab": {
          "base_uri": "https://localhost:8080/"
        },
        "id": "CEK0L6RWvxyv",
        "outputId": "405ad451-8a8b-4208-b397-285c646a61c5"
      },
      "execution_count": 1,
      "outputs": [
        {
          "output_type": "stream",
          "name": "stdout",
          "text": [
            "[ 2  4  6  8 10 12 14 16 18 20]\n"
          ]
        }
      ]
    },
    {
      "cell_type": "markdown",
      "source": [
        "Завдання 2. Створіть двовимірний масив (матрицю) розміром 3x3, заповніть його випадковими\n",
        "дійсними числами від 0 до 1 та виведіть його значення."
      ],
      "metadata": {
        "id": "0oM0uA9nvzvd"
      }
    },
    {
      "cell_type": "code",
      "source": [
        "import numpy as np\n",
        "\n",
        "\n",
        "matrix = np.random.rand(3, 3)\n",
        "\n",
        "print(matrix)\n"
      ],
      "metadata": {
        "colab": {
          "base_uri": "https://localhost:8080/"
        },
        "id": "jGtdJYGVv1c0",
        "outputId": "8327adf3-91e3-4536-d685-bb95e43a8855"
      },
      "execution_count": 2,
      "outputs": [
        {
          "output_type": "stream",
          "name": "stdout",
          "text": [
            "[[0.96615828 0.20201588 0.74141978]\n",
            " [0.58728855 0.12083926 0.40547404]\n",
            " [0.67488193 0.46404551 0.71811092]]\n"
          ]
        }
      ]
    },
    {
      "cell_type": "markdown",
      "source": [
        "Завдання 3. Створіть масив розміром 3x3, заповніть його випадковими натуральними числами від\n",
        "1 до 20 та виведіть його значення"
      ],
      "metadata": {
        "id": "0HeAYUEzv5Ig"
      }
    },
    {
      "cell_type": "code",
      "source": [
        "import numpy as np\n",
        "\n",
        "matrix = np.random.randint(1, 21, (3, 3))\n",
        "\n",
        "\n",
        "print(matrix)\n"
      ],
      "metadata": {
        "colab": {
          "base_uri": "https://localhost:8080/"
        },
        "id": "bT0iU4eNv7-i",
        "outputId": "440f49a9-1073-406a-8884-f315897036d1"
      },
      "execution_count": 3,
      "outputs": [
        {
          "output_type": "stream",
          "name": "stdout",
          "text": [
            "[[ 2  7  4]\n",
            " [ 1  2 13]\n",
            " [18  7 12]]\n"
          ]
        }
      ]
    },
    {
      "cell_type": "markdown",
      "source": [
        " Завдання 4. Створіть масив розміром 4x4, заповніть його випадковими дійсними числами в\n",
        "діапазоні від 0 до 1 та знайдіть мінімальний елемент."
      ],
      "metadata": {
        "id": "MlCRbVxewAPM"
      }
    },
    {
      "cell_type": "code",
      "source": [
        "import numpy as np\n",
        "\n",
        "matrix = np.random.rand(4, 4)\n",
        "\n",
        "min_element = np.min(matrix)\n",
        "\n",
        "print(\"Матриця:\")\n",
        "print(matrix)\n",
        "print(\"\\nМінімальний елемент:\", min_element)\n"
      ],
      "metadata": {
        "colab": {
          "base_uri": "https://localhost:8080/"
        },
        "id": "7-0YR9wvwAuc",
        "outputId": "af8981c1-9714-4697-d5d3-43b6cf6063f6"
      },
      "execution_count": 4,
      "outputs": [
        {
          "output_type": "stream",
          "name": "stdout",
          "text": [
            "Матриця:\n",
            "[[0.97158891 0.84192596 0.7606575  0.27290234]\n",
            " [0.38274795 0.95443264 0.01879923 0.67842522]\n",
            " [0.91750484 0.05512654 0.59042342 0.30463084]\n",
            " [0.29380394 0.14825317 0.41413371 0.22359333]]\n",
            "\n",
            "Мінімальний елемент: 0.01879922606043183\n"
          ]
        }
      ]
    },
    {
      "cell_type": "markdown",
      "source": [
        "Завдання 5. Створіть два одновимірних масиви розміром 7, заповніть їх випадковими цілими\n",
        "числами в діапазоні від 1 до 15 та виконайте на них поелементні операції додавання,\n",
        "віднімання та множення."
      ],
      "metadata": {
        "id": "4qXD3FMuwEkR"
      }
    },
    {
      "cell_type": "code",
      "source": [
        "import numpy as np\n",
        "\n",
        "array1 = np.random.randint(1, 16, 7)\n",
        "array2 = np.random.randint(1, 16, 7)\n",
        "\n",
        "sum_array = array1 + array2\n",
        "diff_array = array1 - array2\n",
        "prod_array = array1 * array2\n",
        "\n",
        "print(\"Масив 1:\", array1)\n",
        "print(\"Масив 2:\", array2)\n",
        "print(\"\\nСума:\", sum_array)\n",
        "print(\"Різниця:\", diff_array)\n",
        "print(\"Добуток:\", prod_array)\n"
      ],
      "metadata": {
        "colab": {
          "base_uri": "https://localhost:8080/"
        },
        "id": "86d-edPkwFRC",
        "outputId": "ce4e2bca-2849-4bdc-b9a3-63045b8f584e"
      },
      "execution_count": 5,
      "outputs": [
        {
          "output_type": "stream",
          "name": "stdout",
          "text": [
            "Масив 1: [ 5 12 11  9 11  4  8]\n",
            "Масив 2: [ 9 14 14 14  5 11 12]\n",
            "\n",
            "Сума: [14 26 25 23 16 15 20]\n",
            "Різниця: [-4 -2 -3 -5  6 -7 -4]\n",
            "Добуток: [ 45 168 154 126  55  44  96]\n"
          ]
        }
      ]
    },
    {
      "cell_type": "markdown",
      "source": [
        "Завдання 6. Створіть дві матриці 3x3, заповніть їх довільними цілими числами від 3 до 30 та\n",
        "знайдіть їх добуток."
      ],
      "metadata": {
        "id": "XmfcLZLQwI4T"
      }
    },
    {
      "cell_type": "code",
      "source": [
        "import numpy as np\n",
        "\n",
        "matrix1 = np.random.randint(3, 31, (3, 3))\n",
        "matrix2 = np.random.randint(3, 31, (3, 3))\n",
        "\n",
        "product_matrix = np.dot(matrix1, matrix2)\n",
        "\n",
        "print(\"Матриця 1:\")\n",
        "print(matrix1)\n",
        "print(\"\\nМатриця 2:\")\n",
        "print(matrix2)\n",
        "print(\"\\nДобуток матриць:\")\n",
        "print(product_matrix)\n"
      ],
      "metadata": {
        "colab": {
          "base_uri": "https://localhost:8080/"
        },
        "id": "Ym8SgpaTwJfo",
        "outputId": "e15d0298-42ff-43b1-c81a-077f0e6c0feb"
      },
      "execution_count": 6,
      "outputs": [
        {
          "output_type": "stream",
          "name": "stdout",
          "text": [
            "Матриця 1:\n",
            "[[ 4  4 17]\n",
            " [24 24 14]\n",
            " [27 12  3]]\n",
            "\n",
            "Матриця 2:\n",
            "[[25  6 15]\n",
            " [13  4 14]\n",
            " [ 5  3 22]]\n",
            "\n",
            "Добуток матриць:\n",
            "[[ 237   91  490]\n",
            " [ 982  282 1004]\n",
            " [ 846  219  639]]\n"
          ]
        }
      ]
    },
    {
      "cell_type": "markdown",
      "source": [
        "Завдання 7. Створіть дві матриці розміром 4x2 та 2x5, заповніть їх випадковими цілими числами\n",
        "в діапазоні від 1 до 7 та перемножте їх між собою."
      ],
      "metadata": {
        "id": "xpea72mdwLjK"
      }
    },
    {
      "cell_type": "code",
      "source": [
        "import numpy as np\n",
        "\n",
        "matrix1 = np.random.randint(1, 8, (4, 2))\n",
        "matrix2 = np.random.randint(1, 8, (2, 5))\n",
        "\n",
        "\n",
        "product_matrix = np.dot(matrix1, matrix2)\n",
        "\n",
        "\n",
        "print(\"Матриця 1 (4x2):\")\n",
        "print(matrix1)\n",
        "print(\"\\nМатриця 2 (2x5):\")\n",
        "print(matrix2)\n",
        "print(\"\\nДобуток матриць (4x5):\")\n",
        "print(product_matrix)\n"
      ],
      "metadata": {
        "colab": {
          "base_uri": "https://localhost:8080/"
        },
        "id": "0pulP2DywNVO",
        "outputId": "64123615-b73a-4115-b582-54b51169ef22"
      },
      "execution_count": 7,
      "outputs": [
        {
          "output_type": "stream",
          "name": "stdout",
          "text": [
            "Матриця 1 (4x2):\n",
            "[[1 6]\n",
            " [4 6]\n",
            " [6 3]\n",
            " [1 1]]\n",
            "\n",
            "Матриця 2 (2x5):\n",
            "[[3 4 3 4 6]\n",
            " [4 2 4 5 3]]\n",
            "\n",
            "Добуток матриць (4x5):\n",
            "[[27 16 27 34 24]\n",
            " [36 28 36 46 42]\n",
            " [30 30 30 39 45]\n",
            " [ 7  6  7  9  9]]\n"
          ]
        }
      ]
    },
    {
      "cell_type": "markdown",
      "source": [
        "Завдання 8. Створіть матрицю розміром 2x2, заповніть її випадковими цілими числами в діапазоні\n",
        "від 1 до 8 та знайдіть її обернену матрицю."
      ],
      "metadata": {
        "id": "CdoBFQE8wPc4"
      }
    },
    {
      "cell_type": "code",
      "source": [
        "import numpy as np\n",
        "\n",
        "\n",
        "matrix = np.random.randint(1, 9, (2, 2))\n",
        "\n",
        "determinant = np.linalg.det(matrix)\n",
        "\n",
        "if determinant != 0:\n",
        "    inverse_matrix = np.linalg.inv(matrix)\n",
        "    print(\"Матриця:\")\n",
        "    print(matrix)\n",
        "    print(\"\\nОбернена матриця:\")\n",
        "    print(inverse_matrix)\n",
        "else:\n",
        "    print(\"Матриця:\")\n",
        "    print(matrix)\n",
        "    print(\"\\nЦя матриця не має оберненої, оскільки її визначник дорівнює 0.\")\n"
      ],
      "metadata": {
        "colab": {
          "base_uri": "https://localhost:8080/"
        },
        "id": "Hi71i5MAwSPB",
        "outputId": "ac5e07c6-5494-4855-df50-ecfcb6e86e32"
      },
      "execution_count": 8,
      "outputs": [
        {
          "output_type": "stream",
          "name": "stdout",
          "text": [
            "Матриця:\n",
            "[[4 3]\n",
            " [3 1]]\n",
            "\n",
            "Обернена матриця:\n",
            "[[-0.2  0.6]\n",
            " [ 0.6 -0.8]]\n"
          ]
        }
      ]
    },
    {
      "cell_type": "markdown",
      "source": [
        "Завдання 9. Створіть матрицю розміром 2x3, заповніть її випадковими дійсними числами в\n",
        "діапазоні від 0 до 1 та транспонуйте її."
      ],
      "metadata": {
        "id": "WJn1oWvfwUcr"
      }
    },
    {
      "cell_type": "code",
      "source": [
        "import numpy as np\n",
        "\n",
        "matrix = np.random.rand(2, 3)\n",
        "transposed_matrix = matrix.T\n",
        "\n",
        "print(\"Матриця (2x3):\")\n",
        "print(matrix)\n",
        "print(\"\\nТранспонована матриця (3x2):\")\n",
        "print(transposed_matrix)\n"
      ],
      "metadata": {
        "colab": {
          "base_uri": "https://localhost:8080/"
        },
        "id": "oBPnC4-pwV4m",
        "outputId": "9c821bb5-f3fc-4ebf-936c-579860631829"
      },
      "execution_count": 9,
      "outputs": [
        {
          "output_type": "stream",
          "name": "stdout",
          "text": [
            "Матриця (2x3):\n",
            "[[0.53411753 0.07950922 0.31384355]\n",
            " [0.25402727 0.80615485 0.12654353]]\n",
            "\n",
            "Транспонована матриця (3x2):\n",
            "[[0.53411753 0.25402727]\n",
            " [0.07950922 0.80615485]\n",
            " [0.31384355 0.12654353]]\n"
          ]
        }
      ]
    },
    {
      "cell_type": "markdown",
      "source": [
        "Завдання 10. Створіть матрицю розміром 3x4 та вектор розміром 4 x1, заповніть їх випадковими\n",
        "цілими числами в діапазоні від 1 до 10 та знайдіть добуток матриці на вектор."
      ],
      "metadata": {
        "id": "4uzWYTUBwYFV"
      }
    },
    {
      "cell_type": "code",
      "source": [
        "import numpy as np\n",
        "\n",
        "matrix = np.random.randint(1, 11, (3, 4))\n",
        "\n",
        "vector = np.random.randint(1, 11, (4, 1))\n",
        "\n",
        "result = np.dot(matrix, vector)\n",
        "\n",
        "print(\"Матриця:\")\n",
        "print(matrix)\n",
        "print(\"\\nВектор:\")\n",
        "print(vector)\n",
        "print(\"\\nДобуток матриці на вектор:\")\n",
        "print(result)"
      ],
      "metadata": {
        "colab": {
          "base_uri": "https://localhost:8080/"
        },
        "id": "dQdT6iO7waBV",
        "outputId": "0c105897-91aa-4233-e6f0-21edc4b88fd0"
      },
      "execution_count": 10,
      "outputs": [
        {
          "output_type": "stream",
          "name": "stdout",
          "text": [
            "Матриця:\n",
            "[[ 5  7  8 10]\n",
            " [ 6  8  9  8]\n",
            " [ 6 10  5  8]]\n",
            "\n",
            "Вектор:\n",
            "[[10]\n",
            " [ 6]\n",
            " [ 2]\n",
            " [ 8]]\n",
            "\n",
            "Добуток матриці на вектор:\n",
            "[[188]\n",
            " [190]\n",
            " [194]]\n"
          ]
        }
      ]
    },
    {
      "cell_type": "markdown",
      "source": [
        "Завдання 11. Створіть матрицю розміром 2x3 та вектор розміром 3x1, заповніть матрицю\n",
        "випадковими дійсними числами від 0 до 1, а вектор - випадковими цілими числами в\n",
        "діапазоні від 1 до 10, і знайдіть добуток матриці на вектор."
      ],
      "metadata": {
        "id": "aeSQia7vwc6t"
      }
    },
    {
      "cell_type": "code",
      "source": [
        "import numpy as np\n",
        "\n",
        "matrix = np.random.rand(2, 3)\n",
        "vector = np.random.randint(1, 11, (3, 1))\n",
        "result = np.dot(matrix, vector)\n",
        "print(\"Матриця:\")\n",
        "print(matrix)\n",
        "print(\"\\nВектор:\")\n",
        "print(vector)\n",
        "print(\"\\nДобуток матриці на вектор:\")\n",
        "print(result)"
      ],
      "metadata": {
        "colab": {
          "base_uri": "https://localhost:8080/"
        },
        "id": "XRcHwt7rwe9e",
        "outputId": "3a93df10-a7d9-4cd8-9b8e-bc649b5aa93c"
      },
      "execution_count": 11,
      "outputs": [
        {
          "output_type": "stream",
          "name": "stdout",
          "text": [
            "Матриця:\n",
            "[[0.92115043 0.0319962  0.76270808]\n",
            " [0.16499893 0.36950261 0.66103438]]\n",
            "\n",
            "Вектор:\n",
            "[[ 7]\n",
            " [10]\n",
            " [10]]\n",
            "\n",
            "Добуток матриці на вектор:\n",
            "[[14.39509581]\n",
            " [11.46036236]]\n"
          ]
        }
      ]
    },
    {
      "cell_type": "markdown",
      "source": [
        "Завдання 12. Створіть дві матриці розміром 4x4, заповніть їх випадковими цілими числами в\n",
        "діапазоні від 1 до 10 та знайдіть їхню суму."
      ],
      "metadata": {
        "id": "0VilqcoTwh__"
      }
    },
    {
      "cell_type": "code",
      "source": [
        "import numpy as np\n",
        "\n",
        "matrix1 = np.random.randint(1, 11, (4, 4))\n",
        "matrix2 = np.random.randint(1, 11, (4, 4))\n",
        "sum_matrices = matrix1 + matrix2\n",
        "print(\"Матриця 1:\")\n",
        "print(matrix1)\n",
        "print(\"\\nМатриця 2:\")\n",
        "print(matrix2)\n",
        "print(\"\\nСума матриць:\")\n",
        "print(sum_matrices)"
      ],
      "metadata": {
        "colab": {
          "base_uri": "https://localhost:8080/"
        },
        "id": "b2OMyHbswjpd",
        "outputId": "8ee0ad9a-16fa-4a35-8a56-8094e645d236"
      },
      "execution_count": 12,
      "outputs": [
        {
          "output_type": "stream",
          "name": "stdout",
          "text": [
            "Матриця 1:\n",
            "[[ 3  5  9  6]\n",
            " [ 9  8  8  2]\n",
            " [ 2  8  5  8]\n",
            " [ 7  4  3 10]]\n",
            "\n",
            "Матриця 2:\n",
            "[[10  7  7  4]\n",
            " [ 3  8  7  6]\n",
            " [10  8  7  1]\n",
            " [ 4  8 10  3]]\n",
            "\n",
            "Сума матриць:\n",
            "[[13 12 16 10]\n",
            " [12 16 15  8]\n",
            " [12 16 12  9]\n",
            " [11 12 13 13]]\n"
          ]
        }
      ]
    },
    {
      "cell_type": "markdown",
      "source": [
        "Завдання 13.Створіть дві матриці розміром 4x4, заповніть їх випадковими дійсними числами в\n",
        "діапазоні від -1 до 1 та знайдіть їх добуток."
      ],
      "metadata": {
        "id": "wbagvb0twlsL"
      }
    },
    {
      "cell_type": "code",
      "source": [
        "matrix3 = np.random.uniform(-1, 1, (4, 4))\n",
        "matrix4 = np.random.uniform(-1, 1, (4, 4))\n",
        "product_matrices = np.dot(matrix3, matrix4)\n",
        "print(\"\\nМатриця 3:\")\n",
        "print(matrix3)\n",
        "print(\"\\nМатриця 4:\")\n",
        "print(matrix4)\n",
        "print(\"\\nДобуток матриць:\")\n",
        "print(product_matrices)"
      ],
      "metadata": {
        "colab": {
          "base_uri": "https://localhost:8080/"
        },
        "id": "QPQCW9DMwpeo",
        "outputId": "5977cc11-6a5f-471b-cbe2-84c2de03e2a0"
      },
      "execution_count": 13,
      "outputs": [
        {
          "output_type": "stream",
          "name": "stdout",
          "text": [
            "\n",
            "Матриця 3:\n",
            "[[-0.51795653  0.44210952 -0.15168369 -0.30683878]\n",
            " [ 0.10092051 -0.40962029  0.62779945 -0.99047774]\n",
            " [ 0.1439642   0.21255499  0.14865347 -0.67964306]\n",
            " [ 0.52200879  0.17793416  0.58343818 -0.28154297]]\n",
            "\n",
            "Матриця 4:\n",
            "[[-0.70450193  0.23494788  0.93142907  0.74460722]\n",
            " [-0.33327649  0.09648765  0.05574158 -0.80049723]\n",
            " [-0.08135215 -0.78823374  0.84871438 -0.29064974]\n",
            " [ 0.16830008 -0.54169363 -0.34923535  0.32564098]]\n",
            "\n",
            "Добуток матриць:\n",
            "[[ 0.17825547  0.20674014 -0.47937307 -0.79541407]\n",
            " [-0.1523522   0.02587053  0.94989968 -0.10196385]\n",
            " [-0.2987399   0.30531765  0.50946032 -0.32747862]\n",
            " [-0.52190513 -0.16756232  1.08962963 -0.01500237]]\n"
          ]
        }
      ]
    },
    {
      "cell_type": "markdown",
      "source": [
        "Завдання 14. Створіть матрицю розміром 3x3, заповніть її випадковими дійсними числами в\n",
        "діапазоні від -1 до 1 та знайдіть суму елементів матриці"
      ],
      "metadata": {
        "id": "ny7eaxfJwsz7"
      }
    },
    {
      "cell_type": "code",
      "source": [
        "matrix5 = np.random.uniform(-1, 1, (3, 3))\n",
        "sum_elements = np.sum(matrix5)\n",
        "print(\"\\nМатриця 5:\")\n",
        "print(matrix5)\n",
        "print(\"\\nСума елементів матриці 5:\")\n",
        "print(sum_elements)"
      ],
      "metadata": {
        "colab": {
          "base_uri": "https://localhost:8080/"
        },
        "id": "YFKwLgp-wu38",
        "outputId": "cfab37be-173e-4f9e-ea64-8983ac591ddc"
      },
      "execution_count": 14,
      "outputs": [
        {
          "output_type": "stream",
          "name": "stdout",
          "text": [
            "\n",
            "Матриця 5:\n",
            "[[-0.29222195  0.58371791  0.13063027]\n",
            " [-0.84907068  0.03931015 -0.92113176]\n",
            " [-0.58445451  0.75282225 -0.64860808]]\n",
            "\n",
            "Сума елементів матриці 5:\n",
            "-1.789006396201018\n"
          ]
        }
      ]
    },
    {
      "cell_type": "markdown",
      "source": [
        "Завдання 15. Створіть матрицю розміром 5x5, заповніть її випадковими дійсними числами в\n",
        "діапазоні від -0.5 до 0.5 та знайдіть вектор-стовпчик, що містить суму елементів\n",
        "кожного рядка матриці."
      ],
      "metadata": {
        "id": "Dszn2sOawxKT"
      }
    },
    {
      "cell_type": "code",
      "source": [
        "matrix6 = np.random.uniform(-0.5, 0.5, (5, 5))\n",
        "row_sums = np.sum(matrix6, axis=1).reshape(-1, 1)\n",
        "print(\"\\nМатриця 6:\")\n",
        "print(matrix6)\n",
        "print(\"\\nВектор-стовпчик сум рядків матриці 6:\")\n",
        "print(row_sums)"
      ],
      "metadata": {
        "colab": {
          "base_uri": "https://localhost:8080/"
        },
        "id": "nmC4er-Nw0-B",
        "outputId": "81cfa00d-f5e6-404c-c240-699d5ab7f5fd"
      },
      "execution_count": 15,
      "outputs": [
        {
          "output_type": "stream",
          "name": "stdout",
          "text": [
            "\n",
            "Матриця 6:\n",
            "[[-0.02680938  0.1580223   0.24420563  0.30781656  0.09491544]\n",
            " [-0.45534437 -0.02458388  0.36212567 -0.09220885 -0.24582337]\n",
            " [ 0.35057946 -0.28832306  0.08055663 -0.01339398 -0.48458194]\n",
            " [ 0.38978853  0.09156079  0.1330427  -0.17783399 -0.28621083]\n",
            " [ 0.27970652 -0.43404636  0.23847367 -0.05532888  0.4930098 ]]\n",
            "\n",
            "Вектор-стовпчик сум рядків матриці 6:\n",
            "[[ 0.77815055]\n",
            " [-0.4558348 ]\n",
            " [-0.3551629 ]\n",
            " [ 0.15034721]\n",
            " [ 0.52181475]]\n"
          ]
        }
      ]
    },
    {
      "cell_type": "markdown",
      "source": [
        "Висновок: У цій роботі ми створили та оперували з матрицями різних розмірів, виконували операції додавання, множення та обчислення елементів. Виконання лпбораторних завдань дало змогу попрактикувати використання бібліотеки NumPy для роботи з матрицями\n"
      ],
      "metadata": {
        "id": "SWDWDNRvxHVD"
      }
    }
  ]
}